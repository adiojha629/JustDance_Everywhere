{
  "nbformat": 4,
  "nbformat_minor": 0,
  "metadata": {
    "colab": {
      "name": "ClearCode.ipynb",
      "provenance": [],
      "collapsed_sections": []
    },
    "kernelspec": {
      "name": "python3",
      "display_name": "Python 3"
    },
    "language_info": {
      "name": "python"
    }
  },
  "cells": [
    {
      "cell_type": "markdown",
      "source": [
        "# Preprocessing for JustDance Video\n",
        "In this part we do pose estimation to a video from YOUTUBE and convert it to json files. (through using OpenPose: https://github.com/CMU-Perceptual-Computing-Lab/openpose)"
      ],
      "metadata": {
        "id": "yKwyfa3BMVd4"
      }
    },
    {
      "cell_type": "markdown",
      "source": [
        "## Install OpenPose"
      ],
      "metadata": {
        "id": "0pDYEMrhZhtD"
      }
    },
    {
      "cell_type": "code",
      "source": [
        "import json\n",
        "import numpy as np\n",
        "import matplotlib.pyplot as plt \n",
        "from posixpath import join\n",
        "import pandas as pd\n",
        "import os, sys\n",
        "from google.colab import drive"
      ],
      "metadata": {
        "id": "agmZS0-lNBVX"
      },
      "execution_count": 1,
      "outputs": []
    },
    {
      "cell_type": "code",
      "source": [
        "import os\n",
        "from os.path import exists, join, basename, splitext\n",
        "\n",
        "git_repo_url = 'https://github.com/CMU-Perceptual-Computing-Lab/openpose.git'\n",
        "project_name = splitext(basename(git_repo_url))[0]\n",
        "if not exists(project_name):\n",
        "  # see: https://github.com/CMU-Perceptual-Computing-Lab/openpose/issues/949\n",
        "  # install new CMake becaue of CUDA10\n",
        "  !wget -q https://cmake.org/files/v3.13/cmake-3.13.0-Linux-x86_64.tar.gz\n",
        "  !tar xfz cmake-3.13.0-Linux-x86_64.tar.gz --strip-components=1 -C /usr/local\n",
        "  # clone openpose\n",
        "  !git clone -q --depth 1 $git_repo_url\n",
        "  !sed -i 's/execute_process(COMMAND git checkout master WORKING_DIRECTORY ${CMAKE_SOURCE_DIR}\\/3rdparty\\/caffe)/execute_process(COMMAND git checkout f019d0dfe86f49d1140961f8c7dec22130c83154 WORKING_DIRECTORY ${CMAKE_SOURCE_DIR}\\/3rdparty\\/caffe)/g' openpose/CMakeLists.txt\n",
        "  # install system dependencies\n",
        "  !apt-get -qq install -y libatlas-base-dev libprotobuf-dev libleveldb-dev libsnappy-dev libhdf5-serial-dev protobuf-compiler libgflags-dev libgoogle-glog-dev liblmdb-dev opencl-headers ocl-icd-opencl-dev libviennacl-dev\n",
        "  # install python dependencies\n",
        "  !pip install -q youtube-dl\n",
        "  # build openpose\n",
        "  !cd openpose && rm -rf build || true && mkdir build && cd build && cmake .. && make -j`nproc`\n",
        "  \n",
        "from IPython.display import YouTubeVideo"
      ],
      "metadata": {
        "id": "4OC1ccbVNFc-"
      },
      "execution_count": null,
      "outputs": []
    },
    {
      "cell_type": "markdown",
      "source": [
        "## Download video from YouTube"
      ],
      "metadata": {
        "id": "KkRP4DLxO8Yz"
      }
    },
    {
      "cell_type": "code",
      "source": [
        "pip install pytube"
      ],
      "metadata": {
        "id": "9uI7FDP0NJ-o",
        "colab": {
          "base_uri": "https://localhost:8080/"
        },
        "outputId": "f92d98c6-8dc2-47ab-e4a0-bb9b2f937326"
      },
      "execution_count": 3,
      "outputs": [
        {
          "output_type": "stream",
          "name": "stdout",
          "text": [
            "Collecting pytube\n",
            "  Downloading pytube-12.0.0-py3-none-any.whl (56 kB)\n",
            "\u001b[?25l\r\u001b[K     |█████▉                          | 10 kB 22.6 MB/s eta 0:00:01\r\u001b[K     |███████████▋                    | 20 kB 11.6 MB/s eta 0:00:01\r\u001b[K     |█████████████████▍              | 30 kB 8.2 MB/s eta 0:00:01\r\u001b[K     |███████████████████████▏        | 40 kB 4.1 MB/s eta 0:00:01\r\u001b[K     |█████████████████████████████   | 51 kB 4.9 MB/s eta 0:00:01\r\u001b[K     |████████████████████████████████| 56 kB 2.2 MB/s \n",
            "\u001b[?25hInstalling collected packages: pytube\n",
            "Successfully installed pytube-12.0.0\n"
          ]
        }
      ]
    },
    {
      "cell_type": "code",
      "source": [
        "from pytube import YouTube\n",
        "\n",
        "# ask for the link from user\n",
        "# We use https://www.youtube.com/watch?v=YteMhrQvfCo&t=114s\n",
        "link = input(\"Enter the link of YouTube video you want to download:  \")\n",
        "yt = YouTube(link)\n",
        "\n",
        "#Showing details\n",
        "print(\"Title: \",yt.title)\n",
        "print(\"Number of views: \",yt.views)\n",
        "print(\"Length of video: \",yt.length)\n",
        "print(\"Rating of video: \",yt.rating)\n",
        "#Getting the highest resolution possible\n",
        "ys = yt.streams.get_highest_resolution()\n",
        "\n",
        "#Starting download\n",
        "print(\"Downloading...\")\n",
        "ys.download()\n",
        "print(\"Download completed!!\")"
      ],
      "metadata": {
        "id": "s9DmgqgONgdV"
      },
      "execution_count": null,
      "outputs": []
    },
    {
      "cell_type": "markdown",
      "source": [
        "## Sample the Video\n",
        "\n",
        "In this part we sample the video to 1 frame per second"
      ],
      "metadata": {
        "id": "zoqZv7l4bJox"
      }
    },
    {
      "cell_type": "code",
      "source": [
        "import cv2\n",
        "def collectframes(spf, vid, path): \n",
        "  '''This function is used to get frmame images from video\n",
        "\n",
        "  ------\n",
        "  param:\n",
        "  ------\n",
        "    spf: int\n",
        "      seconds per frame\n",
        "    vid: str\n",
        "      video path\n",
        "    path: str\n",
        "      path to save result images\n",
        "  \n",
        "  '''\n",
        "  cap = cv2.VideoCapture(vid)\n",
        "\n",
        "  print(cap)\n",
        "  # fps = cap.get(cv2.CAP_PROP_FPS)\n",
        "  fps = cap.get(cv2.CAP_PROP_FPS)\n",
        "  cap = cap.set(cv2.CAP_PROP_FPS, 30)\n",
        "  print(fps)\n",
        "  i=0\n",
        "  while(cap.isOpened()):\n",
        "    ret, frame = cap.read()\n",
        "    if ret == False:\n",
        "      print(\"Done\")\n",
        "      break\n",
        "        \n",
        "    if i % (fps*spf) == 0:\n",
        "        cv2.imwrite(path+str(i)+'.jpg',frame)\n",
        "        print(\"Frame\")\n",
        "    i+=1\n",
        "\n",
        "  cap.release()\n",
        "  cv2.destroyAllWindows()\n",
        "\n",
        "collectframes(spf=1,vid=\"justdance_happy_short.mp4\", path = 'sampled2/')"
      ],
      "metadata": {
        "id": "Q_VrSg9XbHW0"
      },
      "execution_count": null,
      "outputs": []
    },
    {
      "cell_type": "markdown",
      "source": [
        "## Run Openpose and detect poses on these images to get json files\n",
        "We do pose estimations on the images saved in \"../sampled2/\" which generated from above function. Then, write result images and json file to \"../ResultImage\" and \"/content/drive/My Drive/ColabNotebooks/Adi_dance_output\""
      ],
      "metadata": {
        "id": "mi_3RekhbNsI"
      }
    },
    {
      "cell_type": "code",
      "source": [
        "!cd openpose && ./build/examples/openpose/openpose.bin --keypoint_scale 0 --image_dir \"../sampled2/\" --write_images \"../ResultImage\" --write_json '/content/drive/My Drive/Colab Notebooks/Adi_dance_output' --display 0\n"
      ],
      "metadata": {
        "id": "wLd9a2OTbRVh"
      },
      "execution_count": null,
      "outputs": []
    },
    {
      "cell_type": "markdown",
      "source": [
        "## Visualize the result:\n",
        "Zip and download images"
      ],
      "metadata": {
        "id": "869eVCc1bdDe"
      }
    },
    {
      "cell_type": "code",
      "source": [
        "!zip -r /content/Sampled.zip /content/Sampled/"
      ],
      "metadata": {
        "id": "UeztqnubbbaK"
      },
      "execution_count": null,
      "outputs": []
    },
    {
      "cell_type": "code",
      "source": [
        "from google.colab import files\n",
        "files.download(\"/content/file.zip\")"
      ],
      "metadata": {
        "id": "uVf_1lpgbjd6"
      },
      "execution_count": null,
      "outputs": []
    },
    {
      "cell_type": "markdown",
      "source": [
        "# Scoring Functions\n",
        "In this part, we calculate the mse between joint angles and give score to user based on that."
      ],
      "metadata": {
        "id": "rAPa7MFcJ0UA"
      }
    },
    {
      "cell_type": "markdown",
      "source": [
        "## Read json file (Genetated by openpose) from JustDance Video"
      ],
      "metadata": {
        "id": "_om9DdkW_YMP"
      }
    },
    {
      "cell_type": "code",
      "source": [
        "def readJson(filename):\n",
        "  data = json.load(filename)"
      ],
      "metadata": {
        "id": "0jhHZubJ_Xt5"
      },
      "execution_count": null,
      "outputs": []
    },
    {
      "cell_type": "markdown",
      "source": [
        "## Get joins angles"
      ],
      "metadata": {
        "id": "VTaf7MEmIS--"
      }
    },
    {
      "cell_type": "markdown",
      "source": [
        "### Define the function to find angle from openPose"
      ],
      "metadata": {
        "id": "JvepkVUx_-bl"
      }
    },
    {
      "cell_type": "code",
      "source": [
        "# take in 3 keypoints\n",
        "# formula: https://stackoverflow.com/questions/1211212/how-to-calculate-an-angle-from-three-points\n",
        "# translate everyting to b coordiate \n",
        "def find_angle(pt1,pt2,pt3):\n",
        "    ''' Get angle from threethree points\n",
        "    ------\n",
        "    params:\n",
        "    ------\n",
        "      pt1,pt2,pt2: [x_coordinate, y_coordinate]\n",
        "\n",
        "    '''\n",
        "\n",
        "    a = np.array(pt1)\n",
        "    b = np.array(pt2)\n",
        "    c = np.array(pt3)\n",
        "    theta = np.arctan2(c[1]-b[1], c[0]-b[0]) - np.arctan2(a[1]-b[1], a[0]-b[0])\n",
        "    angle = np.abs(theta * 180/np.pi)\n",
        "    if angle > 180:\n",
        "        angle = 360 - angle\n",
        "    return angle\n",
        "\n",
        "\n",
        "\n",
        "def get_angles(data):\n",
        "    '''Get feature vectors in the format like:\n",
        "                {'left_elbow': [3, 152],\n",
        "              'left_knee': [10, 160],\n",
        "              'left_neck': [1, 112],\n",
        "              'left_shoulder': [2, 108],\n",
        "              'right_elbow': [6, 166],\n",
        "              'right_knee': [13, 167],\n",
        "              'right_neck': [1, 64],\n",
        "              'right_shoulder': [5, 149]}\n",
        "      ------\n",
        "      params:\n",
        "      ------\n",
        "        data:  dict\n",
        "          directly from json.load(file) \n",
        "      ------    \n",
        "      return:\n",
        "      ------\n",
        "        the feature vectors with angles, the angle will be 9999 if one\n",
        "        of the joints is invalid (i.e. the confidence is 0)\n",
        "\n",
        "    '''\n",
        "    # preprocessing\n",
        "    coords = data['people'][0]['pose_keypoints_2d']\n",
        "    coords_np = np.array(coords).reshape(25,3) #Group by coordinates [x,y,confidence]\n",
        "\n",
        "    feature_vector = {}\n",
        "\n",
        "    # Define joints index for body25\n",
        "    joint_to_index = {\n",
        "        'left_shoulder': [1,2,3],\n",
        "        'right_shoulder':[1,5,6],\n",
        "        'left_elbow':[2,3,4],\n",
        "        'right_elbow' : [5,6,7],\n",
        "        'left_knee' : [9,10,11],\n",
        "        'right_knee' : [12,13,14],\n",
        "        'left_neck' : [0,1,2],\n",
        "        'right_neck' : [0,1,5]\n",
        "    }\n",
        "\n",
        "\n",
        "    for joint in joint_to_index.keys():\n",
        "      # index = [i,j,k] where i,j,k refer to body 25's numbering of joints\n",
        "      # coords_np[i] - gets us the x,y coordinate of body 25 joint i\n",
        "      index = joint_to_index[joint]\n",
        "      pt1,pt2,pt3 = coords_np[index[0]],coords_np[index[1]],coords_np[index[2]]\n",
        "\n",
        "      confidence_1 = coords_np[index[0]][2]\n",
        "      confidence_2 = coords_np[index[1]][2]\n",
        "      confidence_3 = coords_np[index[2]][2]\n",
        "\n",
        "      if 0 in [confidence_1,confidence_2,confidence_3]:\n",
        "        print(\"Angle Won't make Sense\")\n",
        "        angle = 9999 # we'll check for this value when calculating mse\n",
        "      else:\n",
        "        angle = find_angle(pt1,pt2,pt3)\n",
        "\n",
        "      feature_vector[joint]=[index[1],int(angle)]\n",
        "\n",
        "    assert len(feature_vector) == 8\n",
        "\n",
        "    return feature_vector\n"
      ],
      "metadata": {
        "id": "GDBYshpAIZ4j"
      },
      "execution_count": null,
      "outputs": []
    },
    {
      "cell_type": "markdown",
      "source": [
        "### Define the function to find angle from MoveNet"
      ],
      "metadata": {
        "id": "KDp5hhHp_2aD"
      }
    },
    {
      "cell_type": "code",
      "source": [
        "joint_to_index_moveNet = {\n",
        "      'left_shoulder': [7, 5,6],\n",
        "      'right_shoulder': [8, 6, 5],\n",
        "      'left_elbow': [5, 7, 9],\n",
        "      'right_elbow': [6, 8, 10],\n",
        "      'left_knee': [11, 13, 15],\n",
        "      'right_knee': [12, 14, 16]\n",
        "}\n",
        "\n",
        "def get_angles_moveNet(data):\n",
        "    '''Get feature vectors in the format like:\n",
        "              {'left_elbow': [3, 152],\n",
        "            'left_knee': [10, 160],\n",
        "            'left_neck': [1, 112],\n",
        "            'left_shoulder': [2, 108],\n",
        "            'right_elbow': [6, 166],\n",
        "            'right_knee': [13, 167],\n",
        "            'right_neck': [1, 64],  //not supported \n",
        "            'right_shoulder': [5, 149]}\n",
        "    ------\n",
        "    param:\n",
        "    ------\n",
        "      data:  2D array \n",
        "        directly from the moveNet output\n",
        "    ------ \n",
        "    return:\n",
        "    ------\n",
        "      the feature vectors with angles, the angle will be 9999 if one\n",
        "      of the joints is invalid (i.e. the confidence is 0)\n",
        "  '''\n",
        "  # preprocessing\n",
        "    coords_np = data  # shape (17,3)\n",
        "    feature_vector = {}\n",
        "\n",
        "\n",
        "    for joint in joint_to_index_moveNet.keys():\n",
        "\n",
        "        # index = [i,j,k] where i,j,k refer to body 25's numbering of joints\n",
        "        # coords_np[i] - gets us the x,y coordinate of body 25 joint i\n",
        "\n",
        "        index = joint_to_index_moveNet[joint]\n",
        "        pt1, pt2, pt3 = coords_np[index[0]\n",
        "                                  ], coords_np[index[1]], coords_np[index[2]]\n",
        "        confidence_1 = coords_np[index[0]][2]\n",
        "        confidence_2 = coords_np[index[1]][2]\n",
        "        confidence_3 = coords_np[index[2]][2]\n",
        "        angle = 0\n",
        "        for c in [confidence_1, confidence_2, confidence_3]:\n",
        "            if c <= 0.02:\n",
        "                print(\"Angle Won't make Sense\")\n",
        "                angle = 9999  # we'll check for this value when calculating mse\n",
        "                break\n",
        "        if angle!=9999:\n",
        "            angle = find_angle(pt1, pt2, pt3)\n",
        "\n",
        "        feature_vector[joint] = [index[1], int(angle)]\n",
        "    assert len(feature_vector) == 6\n",
        "    return feature_vector"
      ],
      "metadata": {
        "id": "TtnmtkCX_xKI"
      },
      "execution_count": null,
      "outputs": []
    },
    {
      "cell_type": "markdown",
      "source": [
        "## Functions for pose estimation visulization"
      ],
      "metadata": {
        "id": "rfFyFXksJXEP"
      }
    },
    {
      "cell_type": "markdown",
      "source": [
        " plot body 25"
      ],
      "metadata": {
        "id": "MnHgcrYoAge5"
      }
    },
    {
      "cell_type": "code",
      "source": [
        "def plotBody25(data,angle_vector):\n",
        "  '''Plot body 25 diagram with angles on center point\n",
        "  ------\n",
        "  param:\n",
        "  ------\n",
        "    data:  dict\n",
        "      directly from json.load(file) \n",
        "    angle_vector: feature_vector\n",
        "      get from get_angles(data)\n",
        "  '''\n",
        "  coords = data['people'][0]['pose_keypoints_2d']\n",
        "  coords_np = np.array(coords).reshape(25,3) #Group by coordinates [x,y,confidence]\n",
        "  plt.scatter(coords_np[:,0],coords_np[:,1])\n",
        "  \n",
        "  for joint_name in angle_vector.keys():\n",
        "    center,angle = angle_vector[joint_name]\n",
        "    x = int(coords_np[center][0])\n",
        "    y = int(coords_np[center][1])\n",
        "    plt.text(x,y,str(angle))"
      ],
      "metadata": {
        "id": "MW1sq6xoJsOv"
      },
      "execution_count": null,
      "outputs": []
    },
    {
      "cell_type": "code",
      "source": [
        "def draw_connections(frame, keypoints, edges, confidence_threshold):\n",
        "  '''This function is a helper for drawing connections\n",
        "  between joins\n",
        "  '''\n",
        "    y, x, c = frame.shape\n",
        "    shaped = np.squeeze(np.multiply(keypoints, [y,x,1]))\n",
        "    for edge, color in edges.items():\n",
        "        p1, p2 = edge\n",
        "        y1, x1, c1 = shaped[p1]\n",
        "        y2, x2, c2 = shaped[p2]\n",
        "        if (c1 > confidence_threshold) & (c2 > confidence_threshold):      \n",
        "            cv2.line(frame, (int(x1), int(y1)), (int(x2), int(y2)), (0,0,255), 2)\n",
        "            \n",
        "def draw_keypoints(frame, keypoints, confidence):\n",
        "    '''This function is a helper for drawing keypoints\n",
        "    for body 25\n",
        "    '''\n",
        "    y, x, c = frame.shape\n",
        "    shaped = np.squeeze(np.multiply(keypoints, [y,x,1]))\n",
        "    for kp in shaped:\n",
        "        ky, kx, conf = kp\n",
        "        if conf > confidence:\n",
        "            cv2.circle(frame,(int(kx),int(ky)), 4,(0,255,0),-1)"
      ],
      "metadata": {
        "id": "G4XlB8bmAmEK"
      },
      "execution_count": null,
      "outputs": []
    },
    {
      "cell_type": "markdown",
      "source": [
        "## Compute MSE between angles"
      ],
      "metadata": {
        "id": "GfV-eJdPJ50t"
      }
    },
    {
      "cell_type": "code",
      "source": [
        "\n",
        "def get_mse(angle_person, angle_Jdance, body_part = 'upper_body', \n",
        "            joint_names = {\n",
        "                'upper_body':['left_shoulder','right_shoulder','left_elbow','right_elbow'],#,'left_neck','right_neck'],\n",
        "                'lower_body':['left_knee','right_knee']}):\n",
        "   \n",
        "  '''Get MSE for upper/lower body\n",
        "\n",
        "  ------\n",
        "  params:\n",
        "  ------\n",
        "    angle_person : feature_vector\n",
        "    angle_Jdance : feature_vector\n",
        "    body_part : str 'upper_body' or 'lower_body'\n",
        "      indicate which part you want to compute mse for \n",
        "\n",
        "  ------\n",
        "  return: \n",
        "  ------\n",
        "    mean square error between angles\n",
        "\n",
        "  ------\n",
        "  Sample code: \n",
        "  # Get mse for one frame\n",
        "  ------\n",
        "    >>> f1 = open('person.json')\n",
        "    >>> data1 = json.load(f1)\n",
        "    >>> f2 = open('JustDance.json')\n",
        "    >>> data2 = json.load(f2)\n",
        "    >>> angle_person = get_angles(data1)\n",
        "    >>> angle_Jdance = get_angles(data2)\n",
        "    >>> get_mse(angle_person,angle_person)\n",
        "      will return MSE for upper body\n",
        "\n",
        "    >>> get_mse(angle_person, angle_person, body_part = 'lower_body')\n",
        "      will return MSE for lower body\n",
        "\n",
        "  '''\n",
        "\n",
        "  sum = 0\n",
        "  num_of_valid_angle = 0\n",
        "\n",
        "  joint_name = joint_names[body_part][0]\n",
        "  _,angle_person = angle_person[joint_name]\n",
        "  _,angle_Jdance = angle_Jdance[joint_name]\n",
        "\n",
        "  if angle_person != 9999 and angle_Jdance != 9999 : # If either of the angle is invalid, we will not compute mse\n",
        "      num_of_valid_angle +=1\n",
        "      sum += (angle_person-angle_Jdance)**2\n",
        "\n",
        "  if num_of_valid_angle ==0: # if no angle valid, we will return infinity\n",
        "    return np.Infinity\n",
        "\n",
        "  return sum/num_of_valid_angle\n"
      ],
      "metadata": {
        "id": "3qaANBF4J3bP"
      },
      "execution_count": null,
      "outputs": []
    },
    {
      "cell_type": "markdown",
      "source": [
        "# Threshold score to \"Perfect, Good, Okay,...\" use our score function\n",
        "\n",
        "score = 1-alpha*tanh(1-MSE)"
      ],
      "metadata": {
        "id": "IwdLBwwjfqjy"
      }
    },
    {
      "cell_type": "code",
      "source": [
        "def get_score(angle_person, angle_Jdance, body_part = 'upper_body', \n",
        "            joint_names = {\n",
        "                'upper_body':['left_shoulder','right_shoulder','left_elbow','right_elbow'],\n",
        "                'lower_body':['left_knee','right_knee']}, \n",
        "              thresholds = [0.9, 0.8, 0.6, 0.4, 0.1],score_rate = 0.001):\n",
        "    '''This function will return the JustDance score using our score function\n",
        "    and the threshold set by user\n",
        "\n",
        "    ------\n",
        "    params:\n",
        "    ------\n",
        "    angle_person : feature_vector\n",
        "    angle_Jdance : feature_vector\n",
        "    body_part : 'upper_body' or 'lower_body', indicate which part you want to compute mse for \n",
        "\n",
        "    ------\n",
        "    Sample code: \n",
        "    # Get score for one frame\n",
        "    ------\n",
        "    >>> f1 = open('person.json')\n",
        "    >>> data1 = json.load(f1)\n",
        "    >>> f2 = open('JustDance.json')\n",
        "    >>> data2 = json.load(f2)\n",
        "    >>> angle_person = get_angles(data1)\n",
        "    >>> angle_Jdance = get_angles(data2)\n",
        "    >>> get_score(angle_person,angle_person)\n",
        "      will return SCORE(e.g. GOOD, SUPER)\n",
        "\n",
        "    '''\n",
        "    \n",
        "    mse = get_mse(angle_person, angle_Jdance, body_part, \n",
        "            joint_names)\n",
        "\n",
        "    score = 1- np.tanh(score_rate*mse)\n",
        "\n",
        "    # 0.9 Perfect, 0.8 Super, 0.6 Good, 0.4 Nice, 0.1 Ok, 0 X\n",
        "\n",
        "    assert(len(thresholds) == 5)  \n",
        "\n",
        "    if score >= thresholds[0]:\n",
        "      return score, \" PERFECT! \"\n",
        "\n",
        "    elif score >= thresholds[1]:\n",
        "      return score, \"SUPER! \"\n",
        "\n",
        "    elif score >= thresholds[2]:\n",
        "      return score, \"GOOD! \"\n",
        "\n",
        "    elif score >= thresholds[3]:\n",
        "      return score, \"NICE! \" \n",
        "\n",
        "    elif score >= thresholds[4]:\n",
        "      return score, \"OK \"\n",
        "\n",
        "    else:\n",
        "      return score, \"X\"\n",
        "\n",
        "def get_final_score(scores, \n",
        "              thresholds = [0.9, 0.8, 0.6, 0.4, 0.1]):\n",
        "  \n",
        "    '''This function will return the final JustDance score based on our score \n",
        "    function and the threshold set by user\n",
        "    ------\n",
        "    params:\n",
        "    ------\n",
        "    scores: list\n",
        "      A score list \n",
        "    \n",
        "    ------\n",
        "    Sample code:\n",
        "    # Get final score for all frame\n",
        "    ------\n",
        "    >>> scores = []\n",
        "    >>> for i in range (len(frames)):\n",
        "    >>>   f1 = open('person'+str(i)+'.json')\n",
        "    >>>   data1 = json.load(f1)\n",
        "    >>>   f2 = open('JustDance'+str(i)+'.json')\n",
        "    >>>   data2 = json.load(f2)\n",
        "    >>>   angle_person = get_angles(data1)\n",
        "    >>>   angle_Jdance = get_angles(data2)\n",
        "    >>>   scores.append(get_score(angle_person,angle_person))\n",
        "    >>> get_final_score(scores)\n",
        "    \n",
        "      will return final score (e.g. SSS, S)\n",
        "\n",
        "    '''\n",
        "\n",
        "    final_score = np.mean(scores) \n",
        "    assert(len(thresholds) == 5)     \n",
        "  \n",
        "    if final_score >= thresholds[0]:\n",
        "      return  \" SSS \"\n",
        "\n",
        "    elif final_score >= thresholds[1]:\n",
        "      return \" SS \"\n",
        "\n",
        "    elif final_score >= thresholds[2]:\n",
        "      return \" S \"\n",
        "    \n",
        "    elif final_score >= thresholds[3]:\n",
        "      return  \"A \" \n",
        "\n",
        "    elif final_score >= thresholds[4]:\n",
        "      return \" B \"\n",
        "\n",
        "    else:\n",
        "      return  \" C \"\n",
        "\n",
        "\n"
      ],
      "metadata": {
        "id": "yYkyAlk18ezC"
      },
      "execution_count": null,
      "outputs": []
    },
    {
      "cell_type": "markdown",
      "source": [
        "## Plot diagram to compare our score function and NMSE function"
      ],
      "metadata": {
        "id": "rXz8-wBy9hB9"
      }
    },
    {
      "cell_type": "code",
      "source": [
        "import numpy as np\n",
        "import matplotlib.pyplot as plt\n",
        "angle = np.arange(0,180,10)\n",
        "mse = angle**2\n",
        "score = 1- np.tanh(0.0005*mse)\n",
        "plt.plot(angle,-mse)\n",
        "plt.title(\"NMSE vs Angle Difference\")\n",
        "plt.show()\n",
        "plt.plot(angle, score)\n",
        "plt.title(\"Our Score Function vs Angle Difference\")\n",
        "plt.xlabel(\"Angle Difference\")\n",
        "plt.ylabel(\"Our Score Function\")\n",
        "i=0\n",
        "for s in score:\n",
        "  print(\"when difference between angles = \", i*10, \", score = \", s )\n",
        "  i+=1\n",
        "  if i >9:\n",
        "    break"
      ],
      "metadata": {
        "colab": {
          "base_uri": "https://localhost:8080/",
          "height": 780
        },
        "id": "MODat4Hn9JiC",
        "outputId": "353de342-65c9-4843-9cd8-120d7a2958d3"
      },
      "execution_count": 5,
      "outputs": [
        {
          "output_type": "display_data",
          "data": {
            "text/plain": [
              "<Figure size 432x288 with 1 Axes>"
            ],
            "image/png": "[encoded data removed]"
          },
          "metadata": {
            "needs_background": "light"
          }
        },
        {
          "output_type": "stream",
          "name": "stdout",
          "text": [
            "when difference between angles =  0 , score =  1.0\n",
            "when difference between angles =  10 , score =  0.95004162504212\n",
            "when difference between angles =  20 , score =  0.802624679775096\n",
            "when difference between angles =  30 , score =  0.5781009947499921\n",
            "when difference between angles =  40 , score =  0.33596322973215087\n",
            "when difference between angles =  50 , score =  0.15171636004248712\n",
            "when difference between angles =  60 , score =  0.05319398715373169\n",
            "when difference between angles =  70 , score =  0.014783082688563987\n",
            "when difference between angles =  80 , score =  0.0033176021603488204\n",
            "when difference between angles =  90 , score =  0.000606894060057872\n"
          ]
        },
        {
          "output_type": "display_data",
          "data": {
            "text/plain": [
              "<Figure size 432x288 with 1 Axes>"
            ],
            "image/png": "[encoded data removed]"
          },
          "metadata": {
            "needs_background": "light"
          }
        }
      ]
    }
  ]
}