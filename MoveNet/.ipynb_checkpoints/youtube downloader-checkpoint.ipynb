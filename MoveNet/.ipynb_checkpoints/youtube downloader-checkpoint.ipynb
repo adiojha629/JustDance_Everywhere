{
 "cells": [
  {
   "cell_type": "code",
   "execution_count": 1,
   "id": "32bd578c",
   "metadata": {},
   "outputs": [
    {
     "name": "stdout",
     "output_type": "stream",
     "text": [
      "Enter the link of YouTube video you want to download:  https://www.youtube.com/watch?v=ZUL5-mYg_us\n",
      "Title:  Just Dance 2022 - Levitating - All Perfects\n",
      "Number of views:  355577\n",
      "Length of video:  252\n",
      "Rating of video:  None\n"
     ]
    },
    {
     "ename": "RegexMatchError",
     "evalue": "get_throttling_function_name: could not find match for multiple",
     "output_type": "error",
     "traceback": [
      "\u001b[1;31m---------------------------------------------------------------------------\u001b[0m",
      "\u001b[1;31mRegexMatchError\u001b[0m                           Traceback (most recent call last)",
      "\u001b[1;32m~\\Anaconda3\\envs\\fri_rl\\lib\\site-packages\\pytube\\__main__.py\u001b[0m in \u001b[0;36mfmt_streams\u001b[1;34m(self)\u001b[0m\n\u001b[0;32m    180\u001b[0m         \u001b[1;32mtry\u001b[0m\u001b[1;33m:\u001b[0m\u001b[1;33m\u001b[0m\u001b[1;33m\u001b[0m\u001b[0m\n\u001b[1;32m--> 181\u001b[1;33m             \u001b[0mextract\u001b[0m\u001b[1;33m.\u001b[0m\u001b[0mapply_signature\u001b[0m\u001b[1;33m(\u001b[0m\u001b[0mstream_manifest\u001b[0m\u001b[1;33m,\u001b[0m \u001b[0mself\u001b[0m\u001b[1;33m.\u001b[0m\u001b[0mvid_info\u001b[0m\u001b[1;33m,\u001b[0m \u001b[0mself\u001b[0m\u001b[1;33m.\u001b[0m\u001b[0mjs\u001b[0m\u001b[1;33m)\u001b[0m\u001b[1;33m\u001b[0m\u001b[1;33m\u001b[0m\u001b[0m\n\u001b[0m\u001b[0;32m    182\u001b[0m         \u001b[1;32mexcept\u001b[0m \u001b[0mexceptions\u001b[0m\u001b[1;33m.\u001b[0m\u001b[0mExtractError\u001b[0m\u001b[1;33m:\u001b[0m\u001b[1;33m\u001b[0m\u001b[1;33m\u001b[0m\u001b[0m\n",
      "\u001b[1;32m~\\Anaconda3\\envs\\fri_rl\\lib\\site-packages\\pytube\\extract.py\u001b[0m in \u001b[0;36mapply_signature\u001b[1;34m(stream_manifest, vid_info, js)\u001b[0m\n\u001b[0;32m    408\u001b[0m     \"\"\"\n\u001b[1;32m--> 409\u001b[1;33m     \u001b[0mcipher\u001b[0m \u001b[1;33m=\u001b[0m \u001b[0mCipher\u001b[0m\u001b[1;33m(\u001b[0m\u001b[0mjs\u001b[0m\u001b[1;33m=\u001b[0m\u001b[0mjs\u001b[0m\u001b[1;33m)\u001b[0m\u001b[1;33m\u001b[0m\u001b[1;33m\u001b[0m\u001b[0m\n\u001b[0m\u001b[0;32m    410\u001b[0m \u001b[1;33m\u001b[0m\u001b[0m\n",
      "\u001b[1;32m~\\Anaconda3\\envs\\fri_rl\\lib\\site-packages\\pytube\\cipher.py\u001b[0m in \u001b[0;36m__init__\u001b[1;34m(self, js)\u001b[0m\n\u001b[0;32m     42\u001b[0m \u001b[1;33m\u001b[0m\u001b[0m\n\u001b[1;32m---> 43\u001b[1;33m         \u001b[0mself\u001b[0m\u001b[1;33m.\u001b[0m\u001b[0mthrottling_plan\u001b[0m \u001b[1;33m=\u001b[0m \u001b[0mget_throttling_plan\u001b[0m\u001b[1;33m(\u001b[0m\u001b[0mjs\u001b[0m\u001b[1;33m)\u001b[0m\u001b[1;33m\u001b[0m\u001b[1;33m\u001b[0m\u001b[0m\n\u001b[0m\u001b[0;32m     44\u001b[0m         \u001b[0mself\u001b[0m\u001b[1;33m.\u001b[0m\u001b[0mthrottling_array\u001b[0m \u001b[1;33m=\u001b[0m \u001b[0mget_throttling_function_array\u001b[0m\u001b[1;33m(\u001b[0m\u001b[0mjs\u001b[0m\u001b[1;33m)\u001b[0m\u001b[1;33m\u001b[0m\u001b[1;33m\u001b[0m\u001b[0m\n",
      "\u001b[1;32m~\\Anaconda3\\envs\\fri_rl\\lib\\site-packages\\pytube\\cipher.py\u001b[0m in \u001b[0;36mget_throttling_plan\u001b[1;34m(js)\u001b[0m\n\u001b[0;32m    404\u001b[0m     \"\"\"\n\u001b[1;32m--> 405\u001b[1;33m     \u001b[0mraw_code\u001b[0m \u001b[1;33m=\u001b[0m \u001b[0mget_throttling_function_code\u001b[0m\u001b[1;33m(\u001b[0m\u001b[0mjs\u001b[0m\u001b[1;33m)\u001b[0m\u001b[1;33m\u001b[0m\u001b[1;33m\u001b[0m\u001b[0m\n\u001b[0m\u001b[0;32m    406\u001b[0m \u001b[1;33m\u001b[0m\u001b[0m\n",
      "\u001b[1;32m~\\Anaconda3\\envs\\fri_rl\\lib\\site-packages\\pytube\\cipher.py\u001b[0m in \u001b[0;36mget_throttling_function_code\u001b[1;34m(js)\u001b[0m\n\u001b[0;32m    310\u001b[0m     \u001b[1;31m# Begin by extracting the correct function name\u001b[0m\u001b[1;33m\u001b[0m\u001b[1;33m\u001b[0m\u001b[1;33m\u001b[0m\u001b[0m\n\u001b[1;32m--> 311\u001b[1;33m     \u001b[0mname\u001b[0m \u001b[1;33m=\u001b[0m \u001b[0mre\u001b[0m\u001b[1;33m.\u001b[0m\u001b[0mescape\u001b[0m\u001b[1;33m(\u001b[0m\u001b[0mget_throttling_function_name\u001b[0m\u001b[1;33m(\u001b[0m\u001b[0mjs\u001b[0m\u001b[1;33m)\u001b[0m\u001b[1;33m)\u001b[0m\u001b[1;33m\u001b[0m\u001b[1;33m\u001b[0m\u001b[0m\n\u001b[0m\u001b[0;32m    312\u001b[0m \u001b[1;33m\u001b[0m\u001b[0m\n",
      "\u001b[1;32m~\\Anaconda3\\envs\\fri_rl\\lib\\site-packages\\pytube\\cipher.py\u001b[0m in \u001b[0;36mget_throttling_function_name\u001b[1;34m(js)\u001b[0m\n\u001b[0;32m    296\u001b[0m     raise RegexMatchError(\n\u001b[1;32m--> 297\u001b[1;33m         \u001b[0mcaller\u001b[0m\u001b[1;33m=\u001b[0m\u001b[1;34m\"get_throttling_function_name\"\u001b[0m\u001b[1;33m,\u001b[0m \u001b[0mpattern\u001b[0m\u001b[1;33m=\u001b[0m\u001b[1;34m\"multiple\"\u001b[0m\u001b[1;33m\u001b[0m\u001b[1;33m\u001b[0m\u001b[0m\n\u001b[0m\u001b[0;32m    298\u001b[0m     )\n",
      "\u001b[1;31mRegexMatchError\u001b[0m: get_throttling_function_name: could not find match for multiple",
      "\nDuring handling of the above exception, another exception occurred:\n",
      "\u001b[1;31mRegexMatchError\u001b[0m                           Traceback (most recent call last)",
      "\u001b[1;32m<ipython-input-1-a4083325a54b>\u001b[0m in \u001b[0;36m<module>\u001b[1;34m\u001b[0m\n\u001b[0;32m     11\u001b[0m \u001b[0mprint\u001b[0m\u001b[1;33m(\u001b[0m\u001b[1;34m\"Rating of video: \"\u001b[0m\u001b[1;33m,\u001b[0m\u001b[0myt\u001b[0m\u001b[1;33m.\u001b[0m\u001b[0mrating\u001b[0m\u001b[1;33m)\u001b[0m\u001b[1;33m\u001b[0m\u001b[1;33m\u001b[0m\u001b[0m\n\u001b[0;32m     12\u001b[0m \u001b[1;31m#Getting the highest resolution possible\u001b[0m\u001b[1;33m\u001b[0m\u001b[1;33m\u001b[0m\u001b[1;33m\u001b[0m\u001b[0m\n\u001b[1;32m---> 13\u001b[1;33m \u001b[0mys\u001b[0m \u001b[1;33m=\u001b[0m \u001b[0myt\u001b[0m\u001b[1;33m.\u001b[0m\u001b[0mstreams\u001b[0m\u001b[1;33m.\u001b[0m\u001b[0mget_highest_resolution\u001b[0m\u001b[1;33m(\u001b[0m\u001b[1;33m)\u001b[0m\u001b[1;33m\u001b[0m\u001b[1;33m\u001b[0m\u001b[0m\n\u001b[0m\u001b[0;32m     14\u001b[0m \u001b[1;33m\u001b[0m\u001b[0m\n\u001b[0;32m     15\u001b[0m \u001b[1;31m#Starting download\u001b[0m\u001b[1;33m\u001b[0m\u001b[1;33m\u001b[0m\u001b[1;33m\u001b[0m\u001b[0m\n",
      "\u001b[1;32m~\\Anaconda3\\envs\\fri_rl\\lib\\site-packages\\pytube\\__main__.py\u001b[0m in \u001b[0;36mstreams\u001b[1;34m(self)\u001b[0m\n\u001b[0;32m    294\u001b[0m         \"\"\"\n\u001b[0;32m    295\u001b[0m         \u001b[0mself\u001b[0m\u001b[1;33m.\u001b[0m\u001b[0mcheck_availability\u001b[0m\u001b[1;33m(\u001b[0m\u001b[1;33m)\u001b[0m\u001b[1;33m\u001b[0m\u001b[1;33m\u001b[0m\u001b[0m\n\u001b[1;32m--> 296\u001b[1;33m         \u001b[1;32mreturn\u001b[0m \u001b[0mStreamQuery\u001b[0m\u001b[1;33m(\u001b[0m\u001b[0mself\u001b[0m\u001b[1;33m.\u001b[0m\u001b[0mfmt_streams\u001b[0m\u001b[1;33m)\u001b[0m\u001b[1;33m\u001b[0m\u001b[1;33m\u001b[0m\u001b[0m\n\u001b[0m\u001b[0;32m    297\u001b[0m \u001b[1;33m\u001b[0m\u001b[0m\n\u001b[0;32m    298\u001b[0m     \u001b[1;33m@\u001b[0m\u001b[0mproperty\u001b[0m\u001b[1;33m\u001b[0m\u001b[1;33m\u001b[0m\u001b[0m\n",
      "\u001b[1;32m~\\Anaconda3\\envs\\fri_rl\\lib\\site-packages\\pytube\\__main__.py\u001b[0m in \u001b[0;36mfmt_streams\u001b[1;34m(self)\u001b[0m\n\u001b[0;32m    186\u001b[0m             \u001b[0mpytube\u001b[0m\u001b[1;33m.\u001b[0m\u001b[0m__js__\u001b[0m \u001b[1;33m=\u001b[0m \u001b[1;32mNone\u001b[0m\u001b[1;33m\u001b[0m\u001b[1;33m\u001b[0m\u001b[0m\n\u001b[0;32m    187\u001b[0m             \u001b[0mpytube\u001b[0m\u001b[1;33m.\u001b[0m\u001b[0m__js_url__\u001b[0m \u001b[1;33m=\u001b[0m \u001b[1;32mNone\u001b[0m\u001b[1;33m\u001b[0m\u001b[1;33m\u001b[0m\u001b[0m\n\u001b[1;32m--> 188\u001b[1;33m             \u001b[0mextract\u001b[0m\u001b[1;33m.\u001b[0m\u001b[0mapply_signature\u001b[0m\u001b[1;33m(\u001b[0m\u001b[0mstream_manifest\u001b[0m\u001b[1;33m,\u001b[0m \u001b[0mself\u001b[0m\u001b[1;33m.\u001b[0m\u001b[0mvid_info\u001b[0m\u001b[1;33m,\u001b[0m \u001b[0mself\u001b[0m\u001b[1;33m.\u001b[0m\u001b[0mjs\u001b[0m\u001b[1;33m)\u001b[0m\u001b[1;33m\u001b[0m\u001b[1;33m\u001b[0m\u001b[0m\n\u001b[0m\u001b[0;32m    189\u001b[0m \u001b[1;33m\u001b[0m\u001b[0m\n\u001b[0;32m    190\u001b[0m         \u001b[1;31m# build instances of :class:`Stream <Stream>`\u001b[0m\u001b[1;33m\u001b[0m\u001b[1;33m\u001b[0m\u001b[1;33m\u001b[0m\u001b[0m\n",
      "\u001b[1;32m~\\Anaconda3\\envs\\fri_rl\\lib\\site-packages\\pytube\\extract.py\u001b[0m in \u001b[0;36mapply_signature\u001b[1;34m(stream_manifest, vid_info, js)\u001b[0m\n\u001b[0;32m    407\u001b[0m \u001b[1;33m\u001b[0m\u001b[0m\n\u001b[0;32m    408\u001b[0m     \"\"\"\n\u001b[1;32m--> 409\u001b[1;33m     \u001b[0mcipher\u001b[0m \u001b[1;33m=\u001b[0m \u001b[0mCipher\u001b[0m\u001b[1;33m(\u001b[0m\u001b[0mjs\u001b[0m\u001b[1;33m=\u001b[0m\u001b[0mjs\u001b[0m\u001b[1;33m)\u001b[0m\u001b[1;33m\u001b[0m\u001b[1;33m\u001b[0m\u001b[0m\n\u001b[0m\u001b[0;32m    410\u001b[0m \u001b[1;33m\u001b[0m\u001b[0m\n\u001b[0;32m    411\u001b[0m     \u001b[1;32mfor\u001b[0m \u001b[0mi\u001b[0m\u001b[1;33m,\u001b[0m \u001b[0mstream\u001b[0m \u001b[1;32min\u001b[0m \u001b[0menumerate\u001b[0m\u001b[1;33m(\u001b[0m\u001b[0mstream_manifest\u001b[0m\u001b[1;33m)\u001b[0m\u001b[1;33m:\u001b[0m\u001b[1;33m\u001b[0m\u001b[1;33m\u001b[0m\u001b[0m\n",
      "\u001b[1;32m~\\Anaconda3\\envs\\fri_rl\\lib\\site-packages\\pytube\\cipher.py\u001b[0m in \u001b[0;36m__init__\u001b[1;34m(self, js)\u001b[0m\n\u001b[0;32m     41\u001b[0m         ]\n\u001b[0;32m     42\u001b[0m \u001b[1;33m\u001b[0m\u001b[0m\n\u001b[1;32m---> 43\u001b[1;33m         \u001b[0mself\u001b[0m\u001b[1;33m.\u001b[0m\u001b[0mthrottling_plan\u001b[0m \u001b[1;33m=\u001b[0m \u001b[0mget_throttling_plan\u001b[0m\u001b[1;33m(\u001b[0m\u001b[0mjs\u001b[0m\u001b[1;33m)\u001b[0m\u001b[1;33m\u001b[0m\u001b[1;33m\u001b[0m\u001b[0m\n\u001b[0m\u001b[0;32m     44\u001b[0m         \u001b[0mself\u001b[0m\u001b[1;33m.\u001b[0m\u001b[0mthrottling_array\u001b[0m \u001b[1;33m=\u001b[0m \u001b[0mget_throttling_function_array\u001b[0m\u001b[1;33m(\u001b[0m\u001b[0mjs\u001b[0m\u001b[1;33m)\u001b[0m\u001b[1;33m\u001b[0m\u001b[1;33m\u001b[0m\u001b[0m\n\u001b[0;32m     45\u001b[0m \u001b[1;33m\u001b[0m\u001b[0m\n",
      "\u001b[1;32m~\\Anaconda3\\envs\\fri_rl\\lib\\site-packages\\pytube\\cipher.py\u001b[0m in \u001b[0;36mget_throttling_plan\u001b[1;34m(js)\u001b[0m\n\u001b[0;32m    403\u001b[0m         \u001b[0mThe\u001b[0m \u001b[0mfull\u001b[0m \u001b[0mfunction\u001b[0m \u001b[0mcode\u001b[0m \u001b[1;32mfor\u001b[0m \u001b[0mcomputing\u001b[0m \u001b[0mthe\u001b[0m \u001b[0mthrottlign\u001b[0m \u001b[0mparameter\u001b[0m\u001b[1;33m.\u001b[0m\u001b[1;33m\u001b[0m\u001b[1;33m\u001b[0m\u001b[0m\n\u001b[0;32m    404\u001b[0m     \"\"\"\n\u001b[1;32m--> 405\u001b[1;33m     \u001b[0mraw_code\u001b[0m \u001b[1;33m=\u001b[0m \u001b[0mget_throttling_function_code\u001b[0m\u001b[1;33m(\u001b[0m\u001b[0mjs\u001b[0m\u001b[1;33m)\u001b[0m\u001b[1;33m\u001b[0m\u001b[1;33m\u001b[0m\u001b[0m\n\u001b[0m\u001b[0;32m    406\u001b[0m \u001b[1;33m\u001b[0m\u001b[0m\n\u001b[0;32m    407\u001b[0m     \u001b[0mtransform_start\u001b[0m \u001b[1;33m=\u001b[0m \u001b[1;34mr\"try{\"\u001b[0m\u001b[1;33m\u001b[0m\u001b[1;33m\u001b[0m\u001b[0m\n",
      "\u001b[1;32m~\\Anaconda3\\envs\\fri_rl\\lib\\site-packages\\pytube\\cipher.py\u001b[0m in \u001b[0;36mget_throttling_function_code\u001b[1;34m(js)\u001b[0m\n\u001b[0;32m    309\u001b[0m     \"\"\"\n\u001b[0;32m    310\u001b[0m     \u001b[1;31m# Begin by extracting the correct function name\u001b[0m\u001b[1;33m\u001b[0m\u001b[1;33m\u001b[0m\u001b[1;33m\u001b[0m\u001b[0m\n\u001b[1;32m--> 311\u001b[1;33m     \u001b[0mname\u001b[0m \u001b[1;33m=\u001b[0m \u001b[0mre\u001b[0m\u001b[1;33m.\u001b[0m\u001b[0mescape\u001b[0m\u001b[1;33m(\u001b[0m\u001b[0mget_throttling_function_name\u001b[0m\u001b[1;33m(\u001b[0m\u001b[0mjs\u001b[0m\u001b[1;33m)\u001b[0m\u001b[1;33m)\u001b[0m\u001b[1;33m\u001b[0m\u001b[1;33m\u001b[0m\u001b[0m\n\u001b[0m\u001b[0;32m    312\u001b[0m \u001b[1;33m\u001b[0m\u001b[0m\n\u001b[0;32m    313\u001b[0m     \u001b[1;31m# Identify where the function is defined\u001b[0m\u001b[1;33m\u001b[0m\u001b[1;33m\u001b[0m\u001b[1;33m\u001b[0m\u001b[0m\n",
      "\u001b[1;32m~\\Anaconda3\\envs\\fri_rl\\lib\\site-packages\\pytube\\cipher.py\u001b[0m in \u001b[0;36mget_throttling_function_name\u001b[1;34m(js)\u001b[0m\n\u001b[0;32m    295\u001b[0m \u001b[1;33m\u001b[0m\u001b[0m\n\u001b[0;32m    296\u001b[0m     raise RegexMatchError(\n\u001b[1;32m--> 297\u001b[1;33m         \u001b[0mcaller\u001b[0m\u001b[1;33m=\u001b[0m\u001b[1;34m\"get_throttling_function_name\"\u001b[0m\u001b[1;33m,\u001b[0m \u001b[0mpattern\u001b[0m\u001b[1;33m=\u001b[0m\u001b[1;34m\"multiple\"\u001b[0m\u001b[1;33m\u001b[0m\u001b[1;33m\u001b[0m\u001b[0m\n\u001b[0m\u001b[0;32m    298\u001b[0m     )\n\u001b[0;32m    299\u001b[0m \u001b[1;33m\u001b[0m\u001b[0m\n",
      "\u001b[1;31mRegexMatchError\u001b[0m: get_throttling_function_name: could not find match for multiple"
     ]
    }
   ],
   "source": [
    "from pytube import YouTube\n",
    "\n",
    "#ask for the link from user\n",
    "link = input(\"Enter the link of YouTube video you want to download:  \")\n",
    "yt = YouTube(link)\n",
    "\n",
    "#Showing details\n",
    "print(\"Title: \",yt.title)\n",
    "print(\"Number of views: \",yt.views)\n",
    "print(\"Length of video: \",yt.length)\n",
    "print(\"Rating of video: \",yt.rating)\n",
    "#Getting the highest resolution possible\n",
    "ys = yt.streams.get_highest_resolution()\n",
    "\n",
    "#Starting download\n",
    "print(\"Downloading...\")\n",
    "ys.download()\n",
    "print(\"Download completed!!\")"
   ]
  },
  {
   "cell_type": "code",
   "execution_count": null,
   "id": "73702416",
   "metadata": {},
   "outputs": [],
   "source": []
  }
 ],
 "metadata": {
  "kernelspec": {
   "display_name": "Python 3",
   "language": "python",
   "name": "python3"
  },
  "language_info": {
   "codemirror_mode": {
    "name": "ipython",
    "version": 3
   },
   "file_extension": ".py",
   "mimetype": "text/x-python",
   "name": "python",
   "nbconvert_exporter": "python",
   "pygments_lexer": "ipython3",
   "version": "3.7.9"
  }
 },
 "nbformat": 4,
 "nbformat_minor": 5
}
